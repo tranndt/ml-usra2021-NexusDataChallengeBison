{
 "cells": [
  {
   "cell_type": "code",
   "execution_count": 189,
   "metadata": {},
   "outputs": [],
   "source": [
    "import pandas as pd"
   ]
  },
  {
   "cell_type": "code",
   "execution_count": 190,
   "metadata": {},
   "outputs": [],
   "source": [
    "df = pd.read_excel(\"PQ2MON - Orders - Weeks -1 to -109 (1).xls.xlsx\")"
   ]
  },
  {
   "cell_type": "code",
   "execution_count": 191,
   "metadata": {},
   "outputs": [
    {
     "data": {
      "text/html": [
       "<div>\n",
       "<style scoped>\n",
       "    .dataframe tbody tr th:only-of-type {\n",
       "        vertical-align: middle;\n",
       "    }\n",
       "\n",
       "    .dataframe tbody tr th {\n",
       "        vertical-align: top;\n",
       "    }\n",
       "\n",
       "    .dataframe thead th {\n",
       "        text-align: right;\n",
       "    }\n",
       "</style>\n",
       "<table border=\"1\" class=\"dataframe\">\n",
       "  <thead>\n",
       "    <tr style=\"text-align: right;\">\n",
       "      <th></th>\n",
       "      <th>Client Grouping1</th>\n",
       "      <th>Customer Group</th>\n",
       "      <th>Requested Mode</th>\n",
       "      <th>Priority</th>\n",
       "      <th>Requested Trailer Class</th>\n",
       "      <th>Shipper Region3</th>\n",
       "      <th>Consignee Region3</th>\n",
       "      <th>Lane ID - City to City</th>\n",
       "      <th>Start Date</th>\n",
       "      <th>Completion Date</th>\n",
       "      <th>Order #</th>\n",
       "      <th>Avg. Weekly Frequency</th>\n",
       "    </tr>\n",
       "  </thead>\n",
       "  <tbody>\n",
       "    <tr>\n",
       "      <th>0</th>\n",
       "      <td>Corporate</td>\n",
       "      <td>3M Canada Company</td>\n",
       "      <td>ROAD</td>\n",
       "      <td>Standard</td>\n",
       "      <td>DRY</td>\n",
       "      <td>ON2TOR</td>\n",
       "      <td>PQ2S</td>\n",
       "      <td>MILTON,ON/ to DRUMMONDVILLE,PQ/</td>\n",
       "      <td>2019-04-16</td>\n",
       "      <td>2019-04-18</td>\n",
       "      <td>3790088</td>\n",
       "      <td>0</td>\n",
       "    </tr>\n",
       "    <tr>\n",
       "      <th>1</th>\n",
       "      <td>Corporate</td>\n",
       "      <td>3M Canada Company</td>\n",
       "      <td>ROAD</td>\n",
       "      <td>Standard</td>\n",
       "      <td>DRY</td>\n",
       "      <td>ON2TOR</td>\n",
       "      <td>PQ2S</td>\n",
       "      <td>MILTON,ON/ to DRUMMONDVILLE,PQ/</td>\n",
       "      <td>2019-05-07</td>\n",
       "      <td>2019-05-09</td>\n",
       "      <td>3810953</td>\n",
       "      <td>0</td>\n",
       "    </tr>\n",
       "    <tr>\n",
       "      <th>2</th>\n",
       "      <td>Corporate</td>\n",
       "      <td>3M Canada Company</td>\n",
       "      <td>ROAD</td>\n",
       "      <td>Standard</td>\n",
       "      <td>DRY</td>\n",
       "      <td>ON2TOR</td>\n",
       "      <td>PQ2S</td>\n",
       "      <td>MILTON,ON/ to DRUMMONDVILLE,PQ/</td>\n",
       "      <td>2019-06-07</td>\n",
       "      <td>2019-06-10</td>\n",
       "      <td>3841144</td>\n",
       "      <td>0</td>\n",
       "    </tr>\n",
       "    <tr>\n",
       "      <th>3</th>\n",
       "      <td>Corporate</td>\n",
       "      <td>3M Canada Company</td>\n",
       "      <td>ROAD</td>\n",
       "      <td>Standard</td>\n",
       "      <td>DRY</td>\n",
       "      <td>ON2TOR</td>\n",
       "      <td>PQ2S</td>\n",
       "      <td>MILTON,ON/ to DRUMMONDVILLE,PQ/</td>\n",
       "      <td>2019-07-09</td>\n",
       "      <td>2019-07-11</td>\n",
       "      <td>3869973</td>\n",
       "      <td>0</td>\n",
       "    </tr>\n",
       "    <tr>\n",
       "      <th>4</th>\n",
       "      <td>Corporate</td>\n",
       "      <td>3M Canada Company</td>\n",
       "      <td>ROAD</td>\n",
       "      <td>Standard</td>\n",
       "      <td>DRY</td>\n",
       "      <td>PQ2MON</td>\n",
       "      <td>USMWIA</td>\n",
       "      <td>STE THERESE,PQ/TE to PRAIRIE DU CHIEN,WI/</td>\n",
       "      <td>2020-02-26</td>\n",
       "      <td>2020-03-02</td>\n",
       "      <td>4066936</td>\n",
       "      <td>0</td>\n",
       "    </tr>\n",
       "  </tbody>\n",
       "</table>\n",
       "</div>"
      ],
      "text/plain": [
       "  Client Grouping1     Customer Group Requested Mode  Priority  \\\n",
       "0        Corporate  3M Canada Company           ROAD  Standard   \n",
       "1        Corporate  3M Canada Company           ROAD  Standard   \n",
       "2        Corporate  3M Canada Company           ROAD  Standard   \n",
       "3        Corporate  3M Canada Company           ROAD  Standard   \n",
       "4        Corporate  3M Canada Company           ROAD  Standard   \n",
       "\n",
       "  Requested Trailer Class Shipper Region3 Consignee Region3  \\\n",
       "0                     DRY          ON2TOR              PQ2S   \n",
       "1                     DRY          ON2TOR              PQ2S   \n",
       "2                     DRY          ON2TOR              PQ2S   \n",
       "3                     DRY          ON2TOR              PQ2S   \n",
       "4                     DRY          PQ2MON            USMWIA   \n",
       "\n",
       "                      Lane ID - City to City Start Date Completion Date  \\\n",
       "0            MILTON,ON/ to DRUMMONDVILLE,PQ/ 2019-04-16      2019-04-18   \n",
       "1            MILTON,ON/ to DRUMMONDVILLE,PQ/ 2019-05-07      2019-05-09   \n",
       "2            MILTON,ON/ to DRUMMONDVILLE,PQ/ 2019-06-07      2019-06-10   \n",
       "3            MILTON,ON/ to DRUMMONDVILLE,PQ/ 2019-07-09      2019-07-11   \n",
       "4  STE THERESE,PQ/TE to PRAIRIE DU CHIEN,WI/ 2020-02-26      2020-03-02   \n",
       "\n",
       "   Order #  Avg. Weekly Frequency  \n",
       "0  3790088                      0  \n",
       "1  3810953                      0  \n",
       "2  3841144                      0  \n",
       "3  3869973                      0  \n",
       "4  4066936                      0  "
      ]
     },
     "execution_count": 191,
     "metadata": {},
     "output_type": "execute_result"
    }
   ],
   "source": [
    "df.head()"
   ]
  },
  {
   "cell_type": "markdown",
   "metadata": {},
   "source": [
    "# Cleaning Dataset"
   ]
  },
  {
   "cell_type": "code",
   "execution_count": 192,
   "metadata": {},
   "outputs": [
    {
     "name": "stdout",
     "output_type": "stream",
     "text": [
      "Client Grouping1\n",
      "missing: False    23869\n",
      "Name: Client Grouping1, dtype: int64\n",
      "\n",
      "Customer Group\n",
      "missing: False    23869\n",
      "Name: Customer Group, dtype: int64\n",
      "\n",
      "Requested Mode\n",
      "missing: False    23869\n",
      "Name: Requested Mode, dtype: int64\n",
      "\n",
      "Priority\n",
      "missing: False    23869\n",
      "Name: Priority, dtype: int64\n",
      "\n",
      "Requested Trailer Class\n",
      "missing: False    23869\n",
      "Name: Requested Trailer Class, dtype: int64\n",
      "\n",
      "Shipper Region3\n",
      "missing: False    23848\n",
      "True        21\n",
      "Name: Shipper Region3, dtype: int64\n",
      "\n",
      "Consignee Region3\n",
      "missing: False    23509\n",
      "True       360\n",
      "Name: Consignee Region3, dtype: int64\n",
      "\n",
      "Lane ID - City to City\n",
      "missing: False    23869\n",
      "Name: Lane ID - City to City, dtype: int64\n",
      "\n",
      "Start Date\n",
      "missing: False    23869\n",
      "Name: Start Date, dtype: int64\n",
      "\n",
      "Completion Date\n",
      "missing: False    23869\n",
      "Name: Completion Date, dtype: int64\n",
      "\n",
      "Order #\n",
      "missing: False    23869\n",
      "Name: Order #, dtype: int64\n",
      "\n",
      "Avg. Weekly Frequency\n",
      "missing: False    23869\n",
      "Name: Avg. Weekly Frequency, dtype: int64\n",
      "\n"
     ]
    }
   ],
   "source": [
    "# Check if there is any empty cell\n",
    "missing_data = df.isnull()\n",
    "\n",
    "# Counting missing value (nan) in each column\n",
    "for column in missing_data.columns.values.tolist():\n",
    "    print(column)\n",
    "    print(\"missing:\", missing_data[column].value_counts())\n",
    "    print(\"\")    \n",
    "    \n",
    "# Output: 360 nan(in Consignee col) and 21 nan (in Shipper Region3)"
   ]
  },
  {
   "cell_type": "code",
   "execution_count": 193,
   "metadata": {},
   "outputs": [
    {
     "data": {
      "text/plain": [
       "0    23869\n",
       "Name: Avg. Weekly Frequency, dtype: int64"
      ]
     },
     "execution_count": 193,
     "metadata": {},
     "output_type": "execute_result"
    }
   ],
   "source": [
    "# \"use-less\" columns? All values = 0? Can be deleted\n",
    "df[\"Avg. Weekly Frequency\"].value_counts()"
   ]
  },
  {
   "cell_type": "code",
   "execution_count": 194,
   "metadata": {},
   "outputs": [
    {
     "data": {
      "text/plain": [
       "ROAD    23869\n",
       "Name: Requested Mode, dtype: int64"
      ]
     },
     "execution_count": 194,
     "metadata": {},
     "output_type": "execute_result"
    }
   ],
   "source": [
    "# This column seems \"useless\" too?\n",
    "df[\"Requested Mode\"].value_counts()"
   ]
  },
  {
   "cell_type": "code",
   "execution_count": 195,
   "metadata": {},
   "outputs": [
    {
     "data": {
      "text/plain": [
       "DRY         16584\n",
       "REEFER       6149\n",
       "HEATER       1007\n",
       "M-REEFER      129\n",
       "Name: Requested Trailer Class, dtype: int64"
      ]
     },
     "execution_count": 195,
     "metadata": {},
     "output_type": "execute_result"
    }
   ],
   "source": [
    "# Does this feature have any effect on the problem? Seems no? Delete for now\n",
    "df[\"Requested Trailer Class\"].value_counts()"
   ]
  },
  {
   "cell_type": "code",
   "execution_count": 196,
   "metadata": {},
   "outputs": [
    {
     "data": {
      "text/plain": [
       "Corporate    23125\n",
       "Spot           744\n",
       "Name: Client Grouping1, dtype: int64"
      ]
     },
     "execution_count": 196,
     "metadata": {},
     "output_type": "execute_result"
    }
   ],
   "source": [
    "# Does this feature have any effect on the problem? Seems no? Delete for now\n",
    "df[\"Client Grouping1\"].value_counts()"
   ]
  },
  {
   "cell_type": "code",
   "execution_count": 197,
   "metadata": {},
   "outputs": [],
   "source": [
    "# drop original column \"Avg. Weekly Frequency\" from \"df\"\n",
    "df.drop(\"Avg. Weekly Frequency\", axis = 1, inplace=True)\n",
    "\n",
    "# drop original column \"Requested Mode\" from \"df\"\n",
    "df.drop(\"Requested Mode\", axis=1, inplace=True)\n",
    "\n",
    "# drop original column \"Requested Trailer Class\" from \"df\"\n",
    "df.drop(\"Requested Trailer Class\", axis=1, inplace=True)\n",
    "\n",
    "# drop original column \"Client Grouping1\" from \"df\"\n",
    "df.drop(\"Client Grouping1\", axis=1, inplace=True)"
   ]
  },
  {
   "cell_type": "code",
   "execution_count": 198,
   "metadata": {},
   "outputs": [
    {
     "data": {
      "text/plain": [
       "General Mills                    3473\n",
       "Canada Post Corp.                1951\n",
       "Purolator Canada                  952\n",
       "Danone Canada                     952\n",
       "Baxter % Kuehne & Nagel           882\n",
       "                                 ... \n",
       "Sobeys Inc                          1\n",
       "Mission Produce Inc                 1\n",
       "Motherload Transport Services       1\n",
       "AP International Inc                1\n",
       "Whirlpool Corporation               1\n",
       "Name: Customer Group, Length: 390, dtype: int64"
      ]
     },
     "execution_count": 198,
     "metadata": {},
     "output_type": "execute_result"
    }
   ],
   "source": [
    "df[\"Customer Group\"].value_counts()\n",
    "# I do not find any useful idea to explore from this feature --> would delete this"
   ]
  },
  {
   "cell_type": "code",
   "execution_count": 199,
   "metadata": {},
   "outputs": [],
   "source": [
    "# drop original column \"Customer Group\" from \"df\"\n",
    "df.drop(\"Customer Group\", axis = 1, inplace=True)"
   ]
  },
  {
   "cell_type": "code",
   "execution_count": 200,
   "metadata": {},
   "outputs": [
    {
     "data": {
      "text/plain": [
       "Standard     20220\n",
       "Expedited     3649\n",
       "Name: Priority, dtype: int64"
      ]
     },
     "execution_count": 200,
     "metadata": {},
     "output_type": "execute_result"
    }
   ],
   "source": [
    "df[\"Priority\"].value_counts() #might use it to prioritize which/what to deliver first?"
   ]
  },
  {
   "cell_type": "code",
   "execution_count": 201,
   "metadata": {},
   "outputs": [
    {
     "data": {
      "text/html": [
       "<div>\n",
       "<style scoped>\n",
       "    .dataframe tbody tr th:only-of-type {\n",
       "        vertical-align: middle;\n",
       "    }\n",
       "\n",
       "    .dataframe tbody tr th {\n",
       "        vertical-align: top;\n",
       "    }\n",
       "\n",
       "    .dataframe thead th {\n",
       "        text-align: right;\n",
       "    }\n",
       "</style>\n",
       "<table border=\"1\" class=\"dataframe\">\n",
       "  <thead>\n",
       "    <tr style=\"text-align: right;\">\n",
       "      <th></th>\n",
       "      <th>Priority</th>\n",
       "      <th>Shipper Region3</th>\n",
       "      <th>Consignee Region3</th>\n",
       "      <th>Lane ID - City to City</th>\n",
       "      <th>Start Date</th>\n",
       "      <th>Completion Date</th>\n",
       "      <th>Order #</th>\n",
       "    </tr>\n",
       "  </thead>\n",
       "  <tbody>\n",
       "    <tr>\n",
       "      <th>0</th>\n",
       "      <td>Standard</td>\n",
       "      <td>ON2TOR</td>\n",
       "      <td>PQ2S</td>\n",
       "      <td>MILTON,ON/ to DRUMMONDVILLE,PQ/</td>\n",
       "      <td>2019-04-16</td>\n",
       "      <td>2019-04-18</td>\n",
       "      <td>3790088</td>\n",
       "    </tr>\n",
       "    <tr>\n",
       "      <th>1</th>\n",
       "      <td>Standard</td>\n",
       "      <td>ON2TOR</td>\n",
       "      <td>PQ2S</td>\n",
       "      <td>MILTON,ON/ to DRUMMONDVILLE,PQ/</td>\n",
       "      <td>2019-05-07</td>\n",
       "      <td>2019-05-09</td>\n",
       "      <td>3810953</td>\n",
       "    </tr>\n",
       "    <tr>\n",
       "      <th>2</th>\n",
       "      <td>Standard</td>\n",
       "      <td>ON2TOR</td>\n",
       "      <td>PQ2S</td>\n",
       "      <td>MILTON,ON/ to DRUMMONDVILLE,PQ/</td>\n",
       "      <td>2019-06-07</td>\n",
       "      <td>2019-06-10</td>\n",
       "      <td>3841144</td>\n",
       "    </tr>\n",
       "    <tr>\n",
       "      <th>3</th>\n",
       "      <td>Standard</td>\n",
       "      <td>ON2TOR</td>\n",
       "      <td>PQ2S</td>\n",
       "      <td>MILTON,ON/ to DRUMMONDVILLE,PQ/</td>\n",
       "      <td>2019-07-09</td>\n",
       "      <td>2019-07-11</td>\n",
       "      <td>3869973</td>\n",
       "    </tr>\n",
       "    <tr>\n",
       "      <th>4</th>\n",
       "      <td>Standard</td>\n",
       "      <td>PQ2MON</td>\n",
       "      <td>USMWIA</td>\n",
       "      <td>STE THERESE,PQ/TE to PRAIRIE DU CHIEN,WI/</td>\n",
       "      <td>2020-02-26</td>\n",
       "      <td>2020-03-02</td>\n",
       "      <td>4066936</td>\n",
       "    </tr>\n",
       "  </tbody>\n",
       "</table>\n",
       "</div>"
      ],
      "text/plain": [
       "   Priority Shipper Region3 Consignee Region3  \\\n",
       "0  Standard          ON2TOR              PQ2S   \n",
       "1  Standard          ON2TOR              PQ2S   \n",
       "2  Standard          ON2TOR              PQ2S   \n",
       "3  Standard          ON2TOR              PQ2S   \n",
       "4  Standard          PQ2MON            USMWIA   \n",
       "\n",
       "                      Lane ID - City to City Start Date Completion Date  \\\n",
       "0            MILTON,ON/ to DRUMMONDVILLE,PQ/ 2019-04-16      2019-04-18   \n",
       "1            MILTON,ON/ to DRUMMONDVILLE,PQ/ 2019-05-07      2019-05-09   \n",
       "2            MILTON,ON/ to DRUMMONDVILLE,PQ/ 2019-06-07      2019-06-10   \n",
       "3            MILTON,ON/ to DRUMMONDVILLE,PQ/ 2019-07-09      2019-07-11   \n",
       "4  STE THERESE,PQ/TE to PRAIRIE DU CHIEN,WI/ 2020-02-26      2020-03-02   \n",
       "\n",
       "   Order #  \n",
       "0  3790088  \n",
       "1  3810953  \n",
       "2  3841144  \n",
       "3  3869973  \n",
       "4  4066936  "
      ]
     },
     "execution_count": 201,
     "metadata": {},
     "output_type": "execute_result"
    }
   ],
   "source": [
    "df.head()"
   ]
  },
  {
   "cell_type": "code",
   "execution_count": 202,
   "metadata": {},
   "outputs": [
    {
     "data": {
      "text/plain": [
       "PQ2MON    10820\n",
       "ON2TOR     3727\n",
       "USEASE     1481\n",
       "PQ2S        820\n",
       "BC2VAN      624\n",
       "          ...  \n",
       "ABNW          3\n",
       "BC2INW        2\n",
       "ON2E          2\n",
       "USNWOR        1\n",
       "BC2INE        1\n",
       "Name: Shipper Region3, Length: 70, dtype: int64"
      ]
     },
     "execution_count": 202,
     "metadata": {},
     "output_type": "execute_result"
    }
   ],
   "source": [
    "df[\"Shipper Region3\"].value_counts()"
   ]
  },
  {
   "cell_type": "code",
   "execution_count": 203,
   "metadata": {},
   "outputs": [
    {
     "data": {
      "text/plain": [
       "PQ2MON    10989\n",
       "ON2TOR     1549\n",
       "MB2WIN     1419\n",
       "USILCH     1331\n",
       "ABSCAL     1195\n",
       "          ...  \n",
       "PQ2C          1\n",
       "MB2ONW        1\n",
       "BC2INE        1\n",
       "USSWCC        1\n",
       "USSWCS        1\n",
       "Name: Consignee Region3, Length: 74, dtype: int64"
      ]
     },
     "execution_count": 203,
     "metadata": {},
     "output_type": "execute_result"
    }
   ],
   "source": [
    "df[\"Consignee Region3\"].value_counts()"
   ]
  },
  {
   "cell_type": "code",
   "execution_count": 204,
   "metadata": {},
   "outputs": [
    {
     "data": {
      "text/plain": [
       "PQ2MON    10820\n",
       "PQ2S        820\n",
       "PQ2OTT       69\n",
       "PQ2QUE       24\n",
       "PQ2N          7\n",
       "Name: Shipper Region3, dtype: int64"
      ]
     },
     "execution_count": 204,
     "metadata": {},
     "output_type": "execute_result"
    }
   ],
   "source": [
    "# In this problem, we focus on only Quebec\n",
    "sub_df = df[df['Shipper Region3'].str.contains(\"PQ\", na=False)]\n",
    "sub_df['Shipper Region3'].value_counts()"
   ]
  },
  {
   "cell_type": "code",
   "execution_count": 205,
   "metadata": {},
   "outputs": [
    {
     "data": {
      "text/plain": [
       "PQ2MON    10989\n",
       "PQ2S        518\n",
       "PQ2OTT      333\n",
       "PQ2QUE      192\n",
       "PQ2N         11\n",
       "PQ2C          1\n",
       "Name: Consignee Region3, dtype: int64"
      ]
     },
     "execution_count": 205,
     "metadata": {},
     "output_type": "execute_result"
    }
   ],
   "source": [
    "sub_dff = df[df['Consignee Region3'].str.contains(\"PQ\", na=False)]\n",
    "sub_dff['Consignee Region3'].value_counts()"
   ]
  },
  {
   "cell_type": "code",
   "execution_count": 206,
   "metadata": {},
   "outputs": [
    {
     "data": {
      "text/plain": [
       "(23869, 7)"
      ]
     },
     "execution_count": 206,
     "metadata": {},
     "output_type": "execute_result"
    }
   ],
   "source": [
    "df.shape"
   ]
  },
  {
   "cell_type": "code",
   "execution_count": 207,
   "metadata": {},
   "outputs": [],
   "source": [
    "# so any outgoing and incoming edge that has nothing to do with PQ => delete that row\n",
    "quebec_pattern = ['PQ2MON', 'PQ2S', 'PQ2OTT', 'PQ2QUE', 'PQ2N', 'PQ2C']\n",
    "for i in range(23869):\n",
    "    if df['Shipper Region3'][i] not in quebec_pattern and df['Consignee Region3'][i] not in quebec_pattern:\n",
    "        df.drop(i, axis=0, inplace=True)"
   ]
  },
  {
   "cell_type": "code",
   "execution_count": 208,
   "metadata": {},
   "outputs": [
    {
     "data": {
      "text/html": [
       "<div>\n",
       "<style scoped>\n",
       "    .dataframe tbody tr th:only-of-type {\n",
       "        vertical-align: middle;\n",
       "    }\n",
       "\n",
       "    .dataframe tbody tr th {\n",
       "        vertical-align: top;\n",
       "    }\n",
       "\n",
       "    .dataframe thead th {\n",
       "        text-align: right;\n",
       "    }\n",
       "</style>\n",
       "<table border=\"1\" class=\"dataframe\">\n",
       "  <thead>\n",
       "    <tr style=\"text-align: right;\">\n",
       "      <th></th>\n",
       "      <th>Priority</th>\n",
       "      <th>Shipper Region3</th>\n",
       "      <th>Consignee Region3</th>\n",
       "      <th>Lane ID - City to City</th>\n",
       "      <th>Start Date</th>\n",
       "      <th>Completion Date</th>\n",
       "      <th>Order #</th>\n",
       "    </tr>\n",
       "  </thead>\n",
       "  <tbody>\n",
       "    <tr>\n",
       "      <th>0</th>\n",
       "      <td>Standard</td>\n",
       "      <td>ON2TOR</td>\n",
       "      <td>PQ2S</td>\n",
       "      <td>MILTON,ON/ to DRUMMONDVILLE,PQ/</td>\n",
       "      <td>2019-04-16</td>\n",
       "      <td>2019-04-18</td>\n",
       "      <td>3790088</td>\n",
       "    </tr>\n",
       "    <tr>\n",
       "      <th>1</th>\n",
       "      <td>Standard</td>\n",
       "      <td>ON2TOR</td>\n",
       "      <td>PQ2S</td>\n",
       "      <td>MILTON,ON/ to DRUMMONDVILLE,PQ/</td>\n",
       "      <td>2019-05-07</td>\n",
       "      <td>2019-05-09</td>\n",
       "      <td>3810953</td>\n",
       "    </tr>\n",
       "    <tr>\n",
       "      <th>2</th>\n",
       "      <td>Standard</td>\n",
       "      <td>ON2TOR</td>\n",
       "      <td>PQ2S</td>\n",
       "      <td>MILTON,ON/ to DRUMMONDVILLE,PQ/</td>\n",
       "      <td>2019-06-07</td>\n",
       "      <td>2019-06-10</td>\n",
       "      <td>3841144</td>\n",
       "    </tr>\n",
       "    <tr>\n",
       "      <th>3</th>\n",
       "      <td>Standard</td>\n",
       "      <td>ON2TOR</td>\n",
       "      <td>PQ2S</td>\n",
       "      <td>MILTON,ON/ to DRUMMONDVILLE,PQ/</td>\n",
       "      <td>2019-07-09</td>\n",
       "      <td>2019-07-11</td>\n",
       "      <td>3869973</td>\n",
       "    </tr>\n",
       "    <tr>\n",
       "      <th>4</th>\n",
       "      <td>Standard</td>\n",
       "      <td>PQ2MON</td>\n",
       "      <td>USMWIA</td>\n",
       "      <td>STE THERESE,PQ/TE to PRAIRIE DU CHIEN,WI/</td>\n",
       "      <td>2020-02-26</td>\n",
       "      <td>2020-03-02</td>\n",
       "      <td>4066936</td>\n",
       "    </tr>\n",
       "    <tr>\n",
       "      <th>...</th>\n",
       "      <td>...</td>\n",
       "      <td>...</td>\n",
       "      <td>...</td>\n",
       "      <td>...</td>\n",
       "      <td>...</td>\n",
       "      <td>...</td>\n",
       "      <td>...</td>\n",
       "    </tr>\n",
       "    <tr>\n",
       "      <th>23864</th>\n",
       "      <td>Standard</td>\n",
       "      <td>PQ2MON</td>\n",
       "      <td>BC2VAN</td>\n",
       "      <td>ST LAURENT,PQ/IL to DELTA,BC/</td>\n",
       "      <td>2020-06-18</td>\n",
       "      <td>2020-06-22</td>\n",
       "      <td>4192727</td>\n",
       "    </tr>\n",
       "    <tr>\n",
       "      <th>23865</th>\n",
       "      <td>Standard</td>\n",
       "      <td>PQ2MON</td>\n",
       "      <td>ABNEDM</td>\n",
       "      <td>BOUCHERVILLE,PQ/ to EDMONTON,AB/</td>\n",
       "      <td>2020-02-12</td>\n",
       "      <td>2020-02-18</td>\n",
       "      <td>4074001</td>\n",
       "    </tr>\n",
       "    <tr>\n",
       "      <th>23866</th>\n",
       "      <td>Standard</td>\n",
       "      <td>PQ2MON</td>\n",
       "      <td>ABNEDM</td>\n",
       "      <td>BOUCHERVILLE,PQ/ to EDMONTON,AB/</td>\n",
       "      <td>2020-02-12</td>\n",
       "      <td>2020-02-20</td>\n",
       "      <td>4073978</td>\n",
       "    </tr>\n",
       "    <tr>\n",
       "      <th>23867</th>\n",
       "      <td>Standard</td>\n",
       "      <td>PQ2MON</td>\n",
       "      <td>ABNEDM</td>\n",
       "      <td>BOUCHERVILLE,PQ/ to EDMONTON,AB/</td>\n",
       "      <td>2020-02-13</td>\n",
       "      <td>2020-02-18</td>\n",
       "      <td>4074019</td>\n",
       "    </tr>\n",
       "    <tr>\n",
       "      <th>23868</th>\n",
       "      <td>Standard</td>\n",
       "      <td>PQ2MON</td>\n",
       "      <td>USSES</td>\n",
       "      <td>MONTREAL NORD,PQ/ to DAVENPORT,FL/</td>\n",
       "      <td>2021-04-09</td>\n",
       "      <td>2021-04-13</td>\n",
       "      <td>4477471</td>\n",
       "    </tr>\n",
       "  </tbody>\n",
       "</table>\n",
       "<p>23074 rows × 7 columns</p>\n",
       "</div>"
      ],
      "text/plain": [
       "       Priority Shipper Region3 Consignee Region3  \\\n",
       "0      Standard          ON2TOR              PQ2S   \n",
       "1      Standard          ON2TOR              PQ2S   \n",
       "2      Standard          ON2TOR              PQ2S   \n",
       "3      Standard          ON2TOR              PQ2S   \n",
       "4      Standard          PQ2MON            USMWIA   \n",
       "...         ...             ...               ...   \n",
       "23864  Standard          PQ2MON            BC2VAN   \n",
       "23865  Standard          PQ2MON            ABNEDM   \n",
       "23866  Standard          PQ2MON            ABNEDM   \n",
       "23867  Standard          PQ2MON            ABNEDM   \n",
       "23868  Standard          PQ2MON             USSES   \n",
       "\n",
       "                          Lane ID - City to City Start Date Completion Date  \\\n",
       "0                MILTON,ON/ to DRUMMONDVILLE,PQ/ 2019-04-16      2019-04-18   \n",
       "1                MILTON,ON/ to DRUMMONDVILLE,PQ/ 2019-05-07      2019-05-09   \n",
       "2                MILTON,ON/ to DRUMMONDVILLE,PQ/ 2019-06-07      2019-06-10   \n",
       "3                MILTON,ON/ to DRUMMONDVILLE,PQ/ 2019-07-09      2019-07-11   \n",
       "4      STE THERESE,PQ/TE to PRAIRIE DU CHIEN,WI/ 2020-02-26      2020-03-02   \n",
       "...                                          ...        ...             ...   \n",
       "23864              ST LAURENT,PQ/IL to DELTA,BC/ 2020-06-18      2020-06-22   \n",
       "23865           BOUCHERVILLE,PQ/ to EDMONTON,AB/ 2020-02-12      2020-02-18   \n",
       "23866           BOUCHERVILLE,PQ/ to EDMONTON,AB/ 2020-02-12      2020-02-20   \n",
       "23867           BOUCHERVILLE,PQ/ to EDMONTON,AB/ 2020-02-13      2020-02-18   \n",
       "23868         MONTREAL NORD,PQ/ to DAVENPORT,FL/ 2021-04-09      2021-04-13   \n",
       "\n",
       "       Order #  \n",
       "0      3790088  \n",
       "1      3810953  \n",
       "2      3841144  \n",
       "3      3869973  \n",
       "4      4066936  \n",
       "...        ...  \n",
       "23864  4192727  \n",
       "23865  4074001  \n",
       "23866  4073978  \n",
       "23867  4074019  \n",
       "23868  4477471  \n",
       "\n",
       "[23074 rows x 7 columns]"
      ]
     },
     "execution_count": 208,
     "metadata": {},
     "output_type": "execute_result"
    }
   ],
   "source": [
    "df"
   ]
  },
  {
   "cell_type": "code",
   "execution_count": 209,
   "metadata": {},
   "outputs": [],
   "source": [
    "# not neccessary since shipper region and consignee region already indicated that PQ is in.\n",
    "df.drop(\"Lane ID - City to City\", axis=1, inplace=True)"
   ]
  },
  {
   "cell_type": "code",
   "execution_count": 210,
   "metadata": {},
   "outputs": [
    {
     "data": {
      "text/plain": [
       "Standard     19452\n",
       "Expedited     3622\n",
       "Name: Priority, dtype: int64"
      ]
     },
     "execution_count": 210,
     "metadata": {},
     "output_type": "execute_result"
    }
   ],
   "source": [
    "df[\"Priority\"].value_counts()"
   ]
  },
  {
   "cell_type": "code",
   "execution_count": 212,
   "metadata": {},
   "outputs": [
    {
     "data": {
      "text/plain": [
       "False"
      ]
     },
     "execution_count": 212,
     "metadata": {},
     "output_type": "execute_result"
    }
   ],
   "source": [
    "sort_by_order = sorted(df[\"Order #\"])\n",
    "sort_by_startdate = sorted(df[\"Start Date\"])\n",
    "\n",
    "sort_by_order == sort_by_startdate # the order number seems not related to the order of the date\n",
    "# => not use it to make any assumption => drop"
   ]
  },
  {
   "cell_type": "code",
   "execution_count": 213,
   "metadata": {},
   "outputs": [],
   "source": [
    "df.drop(\"Order #\", axis=1, inplace=True)"
   ]
  },
  {
   "cell_type": "code",
   "execution_count": 214,
   "metadata": {},
   "outputs": [
    {
     "name": "stdout",
     "output_type": "stream",
     "text": [
      "Priority\n",
      "missing: False    23074\n",
      "Name: Priority, dtype: int64\n",
      "\n",
      "Shipper Region3\n",
      "missing: False    23074\n",
      "Name: Shipper Region3, dtype: int64\n",
      "\n",
      "Consignee Region3\n",
      "missing: False    23072\n",
      "True         2\n",
      "Name: Consignee Region3, dtype: int64\n",
      "\n",
      "Start Date\n",
      "missing: False    23074\n",
      "Name: Start Date, dtype: int64\n",
      "\n",
      "Completion Date\n",
      "missing: False    23074\n",
      "Name: Completion Date, dtype: int64\n",
      "\n"
     ]
    }
   ],
   "source": [
    "# Check if there is any empty cell\n",
    "missing_data = df.isnull()\n",
    "\n",
    "# Counting missing value (nan) in each column\n",
    "for column in missing_data.columns.values.tolist():\n",
    "    print(column)\n",
    "    print(\"missing:\", missing_data[column].value_counts())\n",
    "    print(\"\")    \n",
    "\n",
    "#There are still some empty cells => what should we do? delete it or "
   ]
  },
  {
   "cell_type": "code",
   "execution_count": 215,
   "metadata": {},
   "outputs": [],
   "source": [
    "# simply drop whole row with NaN in \"Consignee Region3\" column\n",
    "df.dropna(subset=[\"Consignee Region3\"], axis=0, inplace=True)"
   ]
  },
  {
   "cell_type": "code",
   "execution_count": 216,
   "metadata": {},
   "outputs": [
    {
     "data": {
      "text/html": [
       "<div>\n",
       "<style scoped>\n",
       "    .dataframe tbody tr th:only-of-type {\n",
       "        vertical-align: middle;\n",
       "    }\n",
       "\n",
       "    .dataframe tbody tr th {\n",
       "        vertical-align: top;\n",
       "    }\n",
       "\n",
       "    .dataframe thead th {\n",
       "        text-align: right;\n",
       "    }\n",
       "</style>\n",
       "<table border=\"1\" class=\"dataframe\">\n",
       "  <thead>\n",
       "    <tr style=\"text-align: right;\">\n",
       "      <th></th>\n",
       "      <th>Priority</th>\n",
       "      <th>Shipper Region3</th>\n",
       "      <th>Consignee Region3</th>\n",
       "      <th>Start Date</th>\n",
       "      <th>Completion Date</th>\n",
       "    </tr>\n",
       "  </thead>\n",
       "  <tbody>\n",
       "    <tr>\n",
       "      <th>0</th>\n",
       "      <td>Standard</td>\n",
       "      <td>ON2TOR</td>\n",
       "      <td>PQ2S</td>\n",
       "      <td>2019-04-16</td>\n",
       "      <td>2019-04-18</td>\n",
       "    </tr>\n",
       "    <tr>\n",
       "      <th>1</th>\n",
       "      <td>Standard</td>\n",
       "      <td>ON2TOR</td>\n",
       "      <td>PQ2S</td>\n",
       "      <td>2019-05-07</td>\n",
       "      <td>2019-05-09</td>\n",
       "    </tr>\n",
       "    <tr>\n",
       "      <th>2</th>\n",
       "      <td>Standard</td>\n",
       "      <td>ON2TOR</td>\n",
       "      <td>PQ2S</td>\n",
       "      <td>2019-06-07</td>\n",
       "      <td>2019-06-10</td>\n",
       "    </tr>\n",
       "    <tr>\n",
       "      <th>3</th>\n",
       "      <td>Standard</td>\n",
       "      <td>ON2TOR</td>\n",
       "      <td>PQ2S</td>\n",
       "      <td>2019-07-09</td>\n",
       "      <td>2019-07-11</td>\n",
       "    </tr>\n",
       "    <tr>\n",
       "      <th>4</th>\n",
       "      <td>Standard</td>\n",
       "      <td>PQ2MON</td>\n",
       "      <td>USMWIA</td>\n",
       "      <td>2020-02-26</td>\n",
       "      <td>2020-03-02</td>\n",
       "    </tr>\n",
       "    <tr>\n",
       "      <th>...</th>\n",
       "      <td>...</td>\n",
       "      <td>...</td>\n",
       "      <td>...</td>\n",
       "      <td>...</td>\n",
       "      <td>...</td>\n",
       "    </tr>\n",
       "    <tr>\n",
       "      <th>23864</th>\n",
       "      <td>Standard</td>\n",
       "      <td>PQ2MON</td>\n",
       "      <td>BC2VAN</td>\n",
       "      <td>2020-06-18</td>\n",
       "      <td>2020-06-22</td>\n",
       "    </tr>\n",
       "    <tr>\n",
       "      <th>23865</th>\n",
       "      <td>Standard</td>\n",
       "      <td>PQ2MON</td>\n",
       "      <td>ABNEDM</td>\n",
       "      <td>2020-02-12</td>\n",
       "      <td>2020-02-18</td>\n",
       "    </tr>\n",
       "    <tr>\n",
       "      <th>23866</th>\n",
       "      <td>Standard</td>\n",
       "      <td>PQ2MON</td>\n",
       "      <td>ABNEDM</td>\n",
       "      <td>2020-02-12</td>\n",
       "      <td>2020-02-20</td>\n",
       "    </tr>\n",
       "    <tr>\n",
       "      <th>23867</th>\n",
       "      <td>Standard</td>\n",
       "      <td>PQ2MON</td>\n",
       "      <td>ABNEDM</td>\n",
       "      <td>2020-02-13</td>\n",
       "      <td>2020-02-18</td>\n",
       "    </tr>\n",
       "    <tr>\n",
       "      <th>23868</th>\n",
       "      <td>Standard</td>\n",
       "      <td>PQ2MON</td>\n",
       "      <td>USSES</td>\n",
       "      <td>2021-04-09</td>\n",
       "      <td>2021-04-13</td>\n",
       "    </tr>\n",
       "  </tbody>\n",
       "</table>\n",
       "<p>23072 rows × 5 columns</p>\n",
       "</div>"
      ],
      "text/plain": [
       "       Priority Shipper Region3 Consignee Region3 Start Date Completion Date\n",
       "0      Standard          ON2TOR              PQ2S 2019-04-16      2019-04-18\n",
       "1      Standard          ON2TOR              PQ2S 2019-05-07      2019-05-09\n",
       "2      Standard          ON2TOR              PQ2S 2019-06-07      2019-06-10\n",
       "3      Standard          ON2TOR              PQ2S 2019-07-09      2019-07-11\n",
       "4      Standard          PQ2MON            USMWIA 2020-02-26      2020-03-02\n",
       "...         ...             ...               ...        ...             ...\n",
       "23864  Standard          PQ2MON            BC2VAN 2020-06-18      2020-06-22\n",
       "23865  Standard          PQ2MON            ABNEDM 2020-02-12      2020-02-18\n",
       "23866  Standard          PQ2MON            ABNEDM 2020-02-12      2020-02-20\n",
       "23867  Standard          PQ2MON            ABNEDM 2020-02-13      2020-02-18\n",
       "23868  Standard          PQ2MON             USSES 2021-04-09      2021-04-13\n",
       "\n",
       "[23072 rows x 5 columns]"
      ]
     },
     "execution_count": 216,
     "metadata": {},
     "output_type": "execute_result"
    }
   ],
   "source": [
    "df"
   ]
  },
  {
   "cell_type": "code",
   "execution_count": 217,
   "metadata": {},
   "outputs": [],
   "source": [
    "# Export to new excel file\n",
    "df.to_excel(\"Bison_Transport_Clean_Data.xlsx\", index=False, header=True)"
   ]
  },
  {
   "cell_type": "markdown",
   "metadata": {},
   "source": [
    "# Visualizing Data"
   ]
  },
  {
   "cell_type": "code",
   "execution_count": null,
   "metadata": {},
   "outputs": [],
   "source": []
  }
 ],
 "metadata": {
  "kernelspec": {
   "display_name": "Python 3",
   "language": "python",
   "name": "python3"
  },
  "language_info": {
   "codemirror_mode": {
    "name": "ipython",
    "version": 3
   },
   "file_extension": ".py",
   "mimetype": "text/x-python",
   "name": "python",
   "nbconvert_exporter": "python",
   "pygments_lexer": "ipython3",
   "version": "3.8.5"
  }
 },
 "nbformat": 4,
 "nbformat_minor": 4
}
